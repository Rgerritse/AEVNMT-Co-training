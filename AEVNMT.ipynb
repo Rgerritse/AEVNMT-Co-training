{
  "nbformat": 4,
  "nbformat_minor": 0,
  "metadata": {
    "colab": {
      "name": "AEVNMT.ipynb",
      "version": "0.3.2",
      "provenance": [],
      "include_colab_link": true
    },
    "kernelspec": {
      "name": "python3",
      "display_name": "Python 3"
    },
    "accelerator": "GPU"
  },
  "cells": [
    {
      "cell_type": "markdown",
      "metadata": {
        "id": "view-in-github",
        "colab_type": "text"
      },
      "source": [
        "<a href=\"https://colab.research.google.com/github/Rgerritse/AEVNMT-Co-training/blob/master/AEVNMT.ipynb\" target=\"_parent\"><img src=\"https://colab.research.google.com/assets/colab-badge.svg\" alt=\"Open In Colab\"/></a>"
      ]
    },
    {
      "metadata": {
        "id": "-Z2tE9QHZ8-i",
        "colab_type": "code",
        "outputId": "539e733a-6958-48f5-c912-c2bdaf747885",
        "colab": {
          "base_uri": "https://localhost:8080/",
          "height": 129
        }
      },
      "cell_type": "code",
      "source": [
        "from google.colab import drive\n",
        "drive.mount('/content/gdrive/')\n"
      ],
      "execution_count": 0,
      "outputs": [
        {
          "output_type": "error",
          "ename": "SyntaxError",
          "evalue": "ignored",
          "traceback": [
            "\u001b[0;36m  File \u001b[0;32m\"<ipython-input-14-8296cd3d83a4>\"\u001b[0;36m, line \u001b[0;32m3\u001b[0m\n\u001b[0;31m    cd gdrive/My\\ Drive\u001b[0m\n\u001b[0m            ^\u001b[0m\n\u001b[0;31mSyntaxError\u001b[0m\u001b[0;31m:\u001b[0m invalid syntax\n"
          ]
        }
      ]
    },
    {
      "metadata": {
        "id": "qTlAeDjYkYF1",
        "colab_type": "code",
        "colab": {}
      },
      "cell_type": "code",
      "source": [
        ""
      ],
      "execution_count": 0,
      "outputs": []
    },
    {
      "metadata": {
        "id": "1uR61vs_cm9W",
        "colab_type": "code",
        "outputId": "fe3c27ea-b934-47bd-cbb8-5ae6dfc9dca6",
        "colab": {
          "base_uri": "https://localhost:8080/",
          "height": 34
        }
      },
      "cell_type": "code",
      "source": [
        "import os\n",
        "os.chdir(\"/content/gdrive/My Drive/Thesis\")\n",
        "# from google.colab import files\n",
        "# uploaded = files.upload()\n",
        "\n",
        "!ls"
      ],
      "execution_count": 0,
      "outputs": [
        {
          "output_type": "stream",
          "text": [
            "AEVNMT.ipynb\n"
          ],
          "name": "stdout"
        }
      ]
    },
    {
      "metadata": {
        "id": "ZVmzjcbRhrWm",
        "colab_type": "code",
        "outputId": "09b66d66-a943-4a9e-fe7d-d9f7b90055d6",
        "colab": {
          "base_uri": "https://localhost:8080/",
          "height": 85
        }
      },
      "cell_type": "code",
      "source": [
        "# !rm -rf /root/.ssh\n",
        "\n",
        "# !mkdir /root/.ssh\n",
        "\n",
        "# !tar xvzf ssh.tar.gz\n",
        "\n",
        "# !cp ssh-colab/* /root/.ssh && rm -rf ssh-colab && rm -rf ssh.tar.gz\n",
        "# !chmod 700 /root/.ssh$\n",
        "\n",
        "# !touch /root/.ssh/known_hosts\n",
        "# !ssh-keyscan github.com >> /root/.ssh/known_hosts\n",
        "# !chmod 644 /root/.ssh/known_hosts"
      ],
      "execution_count": 0,
      "outputs": [
        {
          "output_type": "stream",
          "text": [
            "chmod: cannot access '/root/.ssh$': No such file or directory\n",
            "# github.com:22 SSH-2.0-babeld-c6e8f0d0\n",
            "# github.com:22 SSH-2.0-babeld-c6e8f0d0\n",
            "# github.com:22 SSH-2.0-babeld-c6e8f0d0\n"
          ],
          "name": "stdout"
        }
      ]
    },
    {
      "metadata": {
        "id": "E1g8mHyMjCFS",
        "colab_type": "code",
        "outputId": "ff87c2bd-d727-4e4b-f6c9-0e5815b6ae4c",
        "colab": {
          "base_uri": "https://localhost:8080/",
          "height": 173
        }
      },
      "cell_type": "code",
      "source": [
        "# !git config --global user.email \"rgerritse95@gmail.com\"\n",
        "# !git config --global user.name \"Rgerritse95\"\n",
        "!git clone git@github.com:Rgerritse/AEVNMT-Co-training.git"
      ],
      "execution_count": 0,
      "outputs": [
        {
          "output_type": "stream",
          "text": [
            "Cloning into 'AEVNMT-Co-training'...\n",
            "Warning: Permanently added the RSA host key for IP address '192.30.253.112' to the list of known hosts.\r\n",
            "no such identity: /root/.ssh/id_rsa_colab: No such file or directory\r\n",
            "git@github.com: Permission denied (publickey).\r\n",
            "fatal: Could not read from remote repository.\n",
            "\n",
            "Please make sure you have the correct access rights\n",
            "and the repository exists.\n"
          ],
          "name": "stdout"
        }
      ]
    }
  ]
}