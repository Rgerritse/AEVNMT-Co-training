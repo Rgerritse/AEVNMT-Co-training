{
 "cells": [
  {
   "cell_type": "code",
   "execution_count": 10,
   "metadata": {},
   "outputs": [],
   "source": [
    "import torch\n",
    "from train_super import create_model\n",
    "from configuration import setup_config\n",
    "from utils import load_dataset_joey"
   ]
  },
  {
   "cell_type": "code",
   "execution_count": 13,
   "metadata": {},
   "outputs": [
    {
     "name": "stderr",
     "output_type": "stream",
     "text": [
      "usage: ipykernel_launcher.py [-h] [--min_lr MIN_LR] [--tgt TGT]\n",
      "                             [--test_prefix TEST_PREFIX]\n",
      "                             [--lr_reduce_cooldown LR_REDUCE_COOLDOWN]\n",
      "                             [--lr_reduce_patience LR_REDUCE_PATIENCE]\n",
      "                             [--dropout DROPOUT]\n",
      "                             [--tied_embeddings TIED_EMBEDDINGS] [--unk UNK]\n",
      "                             [--num_dec_layers NUM_DEC_LAYERS] [--eos EOS]\n",
      "                             [--bilingual_warmup BILINGUAL_WARMUP]\n",
      "                             [--hidden_size HIDDEN_SIZE] [--sos SOS]\n",
      "                             [--pad PAD] [--batch_size_train BATCH_SIZE_TRAIN]\n",
      "                             [--learning_rate LEARNING_RATE] [--src SRC]\n",
      "                             [--rnn_type RNN_TYPE] [--attention ATTENTION]\n",
      "                             [--kl_annealing_steps KL_ANNEALING_STEPS]\n",
      "                             [--train_prefix TRAIN_PREFIX]\n",
      "                             [--pass_enc_final PASS_ENC_FINAL]\n",
      "                             [--num_enc_layers NUM_ENC_LAYERS]\n",
      "                             [--config_file CONFIG_FILE] [--data_dir DATA_DIR]\n",
      "                             [--model_type MODEL_TYPE]\n",
      "                             [--length_penalty LENGTH_PENALTY]\n",
      "                             [--max_len MAX_LEN] [--vocab_prefix VOCAB_PREFIX]\n",
      "                             [--share_vocab SHARE_VOCAB]\n",
      "                             [--beam_width BEAM_WIDTH] [--device DEVICE]\n",
      "                             [--batch_size_eval BATCH_SIZE_EVAL]\n",
      "                             [--out_dir OUT_DIR] [--patience PATIENCE]\n",
      "                             [--emb_init_std EMB_INIT_STD]\n",
      "                             [--dev_prefix DEV_PREFIX]\n",
      "                             [--latent_size LATENT_SIZE]\n",
      "                             [--max_gradient_norm MAX_GRADIENT_NORM]\n",
      "                             [--emb_size EMB_SIZE] [--mono_prefix MONO_PREFIX]\n",
      "                             [--word_dropout WORD_DROPOUT]\n",
      "                             [--lr_reduce_factor LR_REDUCE_FACTOR]\n",
      "                             [--kl_free_nats KL_FREE_NATS] --session SESSION\n",
      "ipykernel_launcher.py: error: the following arguments are required: --session\n"
     ]
    },
    {
     "ename": "SystemExit",
     "evalue": "2",
     "output_type": "error",
     "traceback": [
      "An exception has occurred, use %tb to see the full traceback.\n",
      "\u001b[0;31mSystemExit\u001b[0m\u001b[0;31m:\u001b[0m 2\n"
     ]
    }
   ],
   "source": [
    "config = setup_config()\n",
    "# train_data, dev_data, vocab_src, vocab_tgt = load_dataset_joey(config)\n",
    "\n",
    "\n",
    "\n",
    "# checkpoint_path = \"output/aevnmt_word_dropout_0.1/checkpoints/aevnmt_word_dropout_0.1\"\n",
    "# state = torch.load(checkpoint_path)"
   ]
  },
  {
   "cell_type": "code",
   "execution_count": null,
   "metadata": {},
   "outputs": [],
   "source": []
  }
 ],
 "metadata": {
  "kernelspec": {
   "display_name": "thesis-kernel",
   "language": "python",
   "name": "thesis-kernel"
  },
  "language_info": {
   "codemirror_mode": {
    "name": "ipython",
    "version": 3
   },
   "file_extension": ".py",
   "mimetype": "text/x-python",
   "name": "python",
   "nbconvert_exporter": "python",
   "pygments_lexer": "ipython3",
   "version": "3.5.7"
  }
 },
 "nbformat": 4,
 "nbformat_minor": 2
}
